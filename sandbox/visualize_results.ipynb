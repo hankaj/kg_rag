{
 "cells": [
  {
   "cell_type": "code",
   "execution_count": 9,
   "id": "993b917b",
   "metadata": {},
   "outputs": [],
   "source": [
    "import pandas as pd\n",
    "import json"
   ]
  },
  {
   "cell_type": "code",
   "execution_count": 10,
   "id": "d75f873f",
   "metadata": {},
   "outputs": [],
   "source": [
    "with open('../results/rag_evaluation_standard_20250505_180952.json', 'r') as file:\n",
    "    standard = json.load(file)\n",
    "\n",
    "with open('../results/rag_evaluation_simple_20250505_180550.json', 'r') as file:\n",
    "    simple = json.load(file)\n",
    "\n",
    "with open('../results/rag_evaluation_hybrid_20250505_184420.json', 'r') as file:\n",
    "    hybrid = json.load(file)\n",
    "\n",
    "with open('../results/rag_evaluation_adaptive_20250506_204137.json', 'r') as file:\n",
    "    adaptive = json.load(file)"
   ]
  },
  {
   "cell_type": "code",
   "execution_count": 11,
   "id": "341bf155",
   "metadata": {},
   "outputs": [
    {
     "data": {
      "text/plain": [
       "{'total_questions': 100,\n",
       " 'successful_responses': 98,\n",
       " 'success_rate': 0.98,\n",
       " 'total_time': 1851.2084307670593,\n",
       " 'avg_time_per_question': 18.512084307670595,\n",
       " 'avg_f1_score': 0.7303595664039841,\n",
       " 'avg_exact_match': 0.6122448979591837}"
      ]
     },
     "execution_count": 11,
     "metadata": {},
     "output_type": "execute_result"
    }
   ],
   "source": [
    "standard['metrics']"
   ]
  },
  {
   "cell_type": "code",
   "execution_count": null,
   "id": "b3cadd32",
   "metadata": {},
   "outputs": [
    {
     "data": {
      "text/html": [
       "<div>\n",
       "<style scoped>\n",
       "    .dataframe tbody tr th:only-of-type {\n",
       "        vertical-align: middle;\n",
       "    }\n",
       "\n",
       "    .dataframe tbody tr th {\n",
       "        vertical-align: top;\n",
       "    }\n",
       "\n",
       "    .dataframe thead th {\n",
       "        text-align: right;\n",
       "    }\n",
       "</style>\n",
       "<table border=\"1\" class=\"dataframe\">\n",
       "  <thead>\n",
       "    <tr style=\"text-align: right;\">\n",
       "      <th></th>\n",
       "      <th>Algorithm</th>\n",
       "      <th>Total Questions</th>\n",
       "      <th>Successful Responses</th>\n",
       "      <th>Success Rate</th>\n",
       "      <th>Total Time</th>\n",
       "      <th>Avg Time Per Question</th>\n",
       "      <th>Avg F1 Score</th>\n",
       "      <th>Avg Exact Match</th>\n",
       "    </tr>\n",
       "  </thead>\n",
       "  <tbody>\n",
       "    <tr>\n",
       "      <th>0</th>\n",
       "      <td>Standard</td>\n",
       "      <td>100</td>\n",
       "      <td>98</td>\n",
       "      <td>0.98</td>\n",
       "      <td>1851.208431</td>\n",
       "      <td>18.512084</td>\n",
       "      <td>0.730360</td>\n",
       "      <td>0.612245</td>\n",
       "    </tr>\n",
       "    <tr>\n",
       "      <th>1</th>\n",
       "      <td>Simple</td>\n",
       "      <td>100</td>\n",
       "      <td>100</td>\n",
       "      <td>1.00</td>\n",
       "      <td>166.460183</td>\n",
       "      <td>1.664602</td>\n",
       "      <td>0.465283</td>\n",
       "      <td>0.390000</td>\n",
       "    </tr>\n",
       "    <tr>\n",
       "      <th>2</th>\n",
       "      <td>Hybrid</td>\n",
       "      <td>100</td>\n",
       "      <td>98</td>\n",
       "      <td>0.98</td>\n",
       "      <td>2017.935493</td>\n",
       "      <td>20.179355</td>\n",
       "      <td>0.739773</td>\n",
       "      <td>0.663265</td>\n",
       "    </tr>\n",
       "    <tr>\n",
       "      <th>3</th>\n",
       "      <td>Adaptive</td>\n",
       "      <td>100</td>\n",
       "      <td>100</td>\n",
       "      <td>1.00</td>\n",
       "      <td>1799.447654</td>\n",
       "      <td>17.994477</td>\n",
       "      <td>0.706932</td>\n",
       "      <td>0.600000</td>\n",
       "    </tr>\n",
       "  </tbody>\n",
       "</table>\n",
       "</div>"
      ],
      "text/plain": [
       "  Algorithm  Total Questions  Successful Responses  Success Rate   Total Time  \\\n",
       "0  Standard              100                    98          0.98  1851.208431   \n",
       "1    Simple              100                   100          1.00   166.460183   \n",
       "2    Hybrid              100                    98          0.98  2017.935493   \n",
       "3  Adaptive              100                   100          1.00  1799.447654   \n",
       "\n",
       "   Avg Time Per Question  Avg F1 Score  Avg Exact Match  \n",
       "0              18.512084      0.730360         0.612245  \n",
       "1               1.664602      0.465283         0.390000  \n",
       "2              20.179355      0.739773         0.663265  \n",
       "3              17.994477      0.706932         0.600000  "
      ]
     },
     "execution_count": 8,
     "metadata": {},
     "output_type": "execute_result"
    }
   ],
   "source": [
    "data = {\n",
    "    'Algorithm': ['Standard', 'Simple', 'Hybrid', 'Adaptive'],\n",
    "    'Total Questions': [standard['metrics']['total_questions'], simple['metrics']['total_questions'], hybrid['metrics']['total_questions'], adaptive['metrics']['total_questions']],\n",
    "    'Successful Responses': [standard['metrics']['successful_responses'], simple['metrics']['successful_responses'], hybrid['metrics']['successful_responses'], adaptive['metrics']['successful_responses']],\n",
    "    'Success Rate': [standard['metrics']['success_rate'], simple['metrics']['success_rate'], hybrid['metrics']['success_rate'], adaptive['metrics']['success_rate']],\n",
    "    'Total Time': [standard['metrics']['total_time'], simple['metrics']['total_time'], hybrid['metrics']['total_time'], adaptive['metrics']['total_time']],\n",
    "    'Avg Time Per Question': [standard['metrics']['avg_time_per_question'], simple['metrics']['avg_time_per_question'], hybrid['metrics']['avg_time_per_question'], adaptive['metrics']['avg_time_per_question']],\n",
    "    'Avg F1 Score': [standard['metrics']['avg_f1_score'], simple['metrics']['avg_f1_score'], hybrid['metrics']['avg_f1_score'], adaptive['metrics']['avg_f1_score']],\n",
    "    'Avg Exact Match': [standard['metrics']['avg_exact_match'], simple['metrics']['avg_exact_match'], hybrid['metrics']['avg_exact_match'], adaptive['metrics']['avg_exact_match']]\n",
    "}\n",
    "\n",
    "metrics_df = pd.DataFrame(data)\n",
    "metrics_df"
   ]
  },
  {
   "cell_type": "code",
   "execution_count": 17,
   "id": "64f3f5db",
   "metadata": {},
   "outputs": [],
   "source": [
    "stardard_details_df = pd.DataFrame(standard['results'])\n",
    "hybrid_details_df = pd.DataFrame(hybrid['results'])\n",
    "details_df = stardard_details_df.join(hybrid_details_df, on='question_id', lsuffix='_s', rsuffix='_h')\n",
    "details_df = details_df[['question_s', 'reference_answer_s', 'model_answer_s', 'f1_score_s', 'model_answer_h', 'f1_score_h']]"
   ]
  },
  {
   "cell_type": "code",
   "execution_count": 18,
   "id": "72c33029",
   "metadata": {},
   "outputs": [],
   "source": [
    "details_df.to_html('results.html')"
   ]
  },
  {
   "cell_type": "code",
   "execution_count": null,
   "id": "a35278f6",
   "metadata": {},
   "outputs": [],
   "source": []
  }
 ],
 "metadata": {
  "kernelspec": {
   "display_name": "venv",
   "language": "python",
   "name": "python3"
  },
  "language_info": {
   "codemirror_mode": {
    "name": "ipython",
    "version": 3
   },
   "file_extension": ".py",
   "mimetype": "text/x-python",
   "name": "python",
   "nbconvert_exporter": "python",
   "pygments_lexer": "ipython3",
   "version": "3.9.12"
  }
 },
 "nbformat": 4,
 "nbformat_minor": 5
}
